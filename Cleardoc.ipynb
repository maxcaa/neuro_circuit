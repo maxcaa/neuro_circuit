{
 "cells": [
  {
   "cell_type": "code",
   "execution_count": 1,
   "metadata": {},
   "outputs": [],
   "source": [
    "import os\n",
    "import sys\n",
    "import scipy.stats\n",
    "\n",
    "import statsmodels.formula.api as smf\n",
    "import numpy as np\n",
    "import pandas as pd\n",
    "import matplotlib.pyplot as plt\n",
    "import seaborn as sns\n",
    "\n",
    "from sklearn.linear_model import LinearRegression \n",
    "from sklearn.metrics import classification_report  \n",
    "from sklearn.linear_model import LogisticRegression\n",
    "from scipy.signal import butter, filtfilt\n",
    "from scipy.signal import detrend\n",
    "\n",
    "plt.style.use('ggplot')"
   ]
  },
  {
   "cell_type": "code",
   "execution_count": 4,
   "metadata": {},
   "outputs": [],
   "source": [
    "base_path = os.getcwd()\n",
    "base_path = base_path.replace('notebooks', 'scripts') # note: if you have notebooks twice in your base_path, this won't work\n",
    "sys.path.insert(1, base_path)\n",
    "\n",
    "from helpers import *\n",
    "from utils import remove_top_right_frame, jitter_scatterplot\n",
    "from function import *"
   ]
  },
  {
   "cell_type": "code",
   "execution_count": 5,
   "metadata": {},
   "outputs": [
    {
     "name": "stdout",
     "output_type": "stream",
     "text": [
      "Main working directory: C:\\Users\\user\\Desktop\\EPFL\\MA1\\projet_cellular\\neuro_circuit\n"
     ]
    }
   ],
   "source": [
    "main_dir =  r\"C:\\Users\\user\\Desktop\\EPFL\\MA1\\projet_cellular\\neuro_circuit\"\n",
    "#main_dir = r\"C:/Users/maxca/Documents/EPFL/Computational_neuro/BIO482_MiniProject_2023_Python\"\n",
    "print('Main working directory:', main_dir)\n",
    "figure_path = os.path.join(main_dir, 'Figures')\n",
    "os.makedirs(figure_path, exist_ok=True)\n",
    "data_path = os.path.join(main_dir, 'Data') #if your folder is organized differently, just specify the full path to the .mat file\n",
    "\n",
    "fname = 'data_bio482-002.plk'\n",
    "data_df = pd.read_pickle(os.path.join(data_path, fname))"
   ]
  },
  {
   "cell_type": "code",
   "execution_count": null,
   "metadata": {},
   "outputs": [],
   "source": [
    "# Select the relevant columns from data_df and assign them to cells_df\n",
    "cells_df = data_df[['Cell_ID', 'Cell_Type', 'Cell_APThreshold_Slope', 'Cell_Depth', 'Cell_Layer', 'Cell_TargetedBrainArea', 'Sweep_MembranePotential']]\n",
    "sampling_rate = 20000"
   ]
  },
  {
   "cell_type": "code",
   "execution_count": null,
   "metadata": {},
   "outputs": [],
   "source": [
    "cell = 17\n",
    "noisy_cell = 5\n",
    "\n",
    "# Extracting data for a specific cell from the DataFrame\n",
    "Vm = cells_df['Sweep_MembranePotential'].iloc[cell]  # Get membrane potential for the cell at index 'cell'\n",
    "#deriv_thresh = cells_df['Cell_APThreshold_Slope'].iloc[cell]  # Get action potential threshold slope for the same cell\n",
    "\n",
    "# Extracting similar data for another cell, referred to as 'noisy_cell'\n",
    "Vm2 = cells_df['Sweep_MembranePotential'].iloc[noisy_cell]  # Get membrane potential for the cell at index 'noisy_cell'\n",
    "#deriv_thresh2 = cells_df['Cell_APThreshold_Slope'].iloc[noisy_cell]  # Get action potential threshold slope for 'noisy_cell'"
   ]
  },
  {
   "cell_type": "code",
   "execution_count": null,
   "metadata": {},
   "outputs": [],
   "source": [
    "lower_threshold = lower_bound(Vm, mvg_avg_window = 1000, sub_window_size=20000)\n",
    "upper_threshold = 0.004\n",
    "\n",
    "spikelets = find_spikelet_moving_avg(Vm, window_size=window_size, lower_threshold=lower_threshold, SR_Vm=sampling_rate)\n",
    "spikelet_testplot(Vm, spikelets)\n",
    "\n",
    "spikelets2 = find_spikelet_moving_avg(Vm2, window_size=window_size, lower_threshold=lower_threshold, SR_Vm=sampling_rate)\n",
    "spikelet_testplot(Vm2, spikelets2)"
   ]
  }
 ],
 "metadata": {
  "kernelspec": {
   "display_name": "bio482",
   "language": "python",
   "name": "python3"
  },
  "language_info": {
   "codemirror_mode": {
    "name": "ipython",
    "version": 3
   },
   "file_extension": ".py",
   "mimetype": "text/x-python",
   "name": "python",
   "nbconvert_exporter": "python",
   "pygments_lexer": "ipython3",
   "version": "3.11.5"
  }
 },
 "nbformat": 4,
 "nbformat_minor": 2
}
